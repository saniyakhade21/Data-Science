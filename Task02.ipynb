{
 "cells": [
  {
   "cell_type": "code",
   "execution_count": 1,
   "id": "f99f2d7b-16b3-4adf-9885-229a001634c1",
   "metadata": {},
   "outputs": [],
   "source": [
    "import pandas as pd\n",
    "import matplotlib.pyplot as plt\n",
    "import seaborn as sns"
   ]
  },
  {
   "cell_type": "code",
   "execution_count": 16,
   "id": "ab492bf8-1287-4aeb-acf0-aff315f8f5fa",
   "metadata": {},
   "outputs": [],
   "source": [
    "data = pd.read_csv(\"test.csv\", skiprows=4)"
   ]
  },
  {
   "cell_type": "code",
   "execution_count": 17,
   "id": "255a587c-d250-4ad7-9b30-4e27bd9ad6fc",
   "metadata": {},
   "outputs": [
    {
     "name": "stdout",
     "output_type": "stream",
     "text": [
      "   895  3                              Wirz, Mr. Albert    male    27  0  0.1  \\\n",
      "0  896  3  Hirvonen, Mrs. Alexander (Helga E Lindqvist)  female  22.0  1    1   \n",
      "1  897  3                    Svensson, Mr. Johan Cervin    male  14.0  0    0   \n",
      "2  898  3                          Connolly, Miss. Kate  female  30.0  0    0   \n",
      "3  899  2                  Caldwell, Mr. Albert Francis    male  26.0  1    1   \n",
      "4  900  3     Abrahim, Mrs. Joseph (Sophie Halaut Easu)  female  18.0  0    0   \n",
      "\n",
      "    315154   8.6625 Unnamed: 9  S  \n",
      "0  3101298  12.2875        NaN  S  \n",
      "1     7538   9.2250        NaN  S  \n",
      "2   330972   7.6292        NaN  Q  \n",
      "3   248738  29.0000        NaN  S  \n",
      "4     2657   7.2292        NaN  C  \n"
     ]
    }
   ],
   "source": [
    "# Preview the first few rows\n",
    "print(data.head())"
   ]
  },
  {
   "cell_type": "code",
   "execution_count": 18,
   "id": "7f5b98ca-15fb-42fe-a720-82669f5001e2",
   "metadata": {},
   "outputs": [
    {
     "data": {
      "text/html": [
       "<div>\n",
       "<style scoped>\n",
       "    .dataframe tbody tr th:only-of-type {\n",
       "        vertical-align: middle;\n",
       "    }\n",
       "\n",
       "    .dataframe tbody tr th {\n",
       "        vertical-align: top;\n",
       "    }\n",
       "\n",
       "    .dataframe thead th {\n",
       "        text-align: right;\n",
       "    }\n",
       "</style>\n",
       "<table border=\"1\" class=\"dataframe\">\n",
       "  <thead>\n",
       "    <tr style=\"text-align: right;\">\n",
       "      <th></th>\n",
       "      <th>895</th>\n",
       "      <th>3</th>\n",
       "      <th>Wirz, Mr. Albert</th>\n",
       "      <th>male</th>\n",
       "      <th>27</th>\n",
       "      <th>0</th>\n",
       "      <th>0.1</th>\n",
       "      <th>315154</th>\n",
       "      <th>8.6625</th>\n",
       "      <th>Unnamed: 9</th>\n",
       "      <th>S</th>\n",
       "    </tr>\n",
       "  </thead>\n",
       "  <tbody>\n",
       "    <tr>\n",
       "      <th>0</th>\n",
       "      <td>896</td>\n",
       "      <td>3</td>\n",
       "      <td>Hirvonen, Mrs. Alexander (Helga E Lindqvist)</td>\n",
       "      <td>female</td>\n",
       "      <td>22.0</td>\n",
       "      <td>1</td>\n",
       "      <td>1</td>\n",
       "      <td>3101298</td>\n",
       "      <td>12.2875</td>\n",
       "      <td>NaN</td>\n",
       "      <td>S</td>\n",
       "    </tr>\n",
       "    <tr>\n",
       "      <th>1</th>\n",
       "      <td>897</td>\n",
       "      <td>3</td>\n",
       "      <td>Svensson, Mr. Johan Cervin</td>\n",
       "      <td>male</td>\n",
       "      <td>14.0</td>\n",
       "      <td>0</td>\n",
       "      <td>0</td>\n",
       "      <td>7538</td>\n",
       "      <td>9.2250</td>\n",
       "      <td>NaN</td>\n",
       "      <td>S</td>\n",
       "    </tr>\n",
       "    <tr>\n",
       "      <th>2</th>\n",
       "      <td>898</td>\n",
       "      <td>3</td>\n",
       "      <td>Connolly, Miss. Kate</td>\n",
       "      <td>female</td>\n",
       "      <td>30.0</td>\n",
       "      <td>0</td>\n",
       "      <td>0</td>\n",
       "      <td>330972</td>\n",
       "      <td>7.6292</td>\n",
       "      <td>NaN</td>\n",
       "      <td>Q</td>\n",
       "    </tr>\n",
       "    <tr>\n",
       "      <th>3</th>\n",
       "      <td>899</td>\n",
       "      <td>2</td>\n",
       "      <td>Caldwell, Mr. Albert Francis</td>\n",
       "      <td>male</td>\n",
       "      <td>26.0</td>\n",
       "      <td>1</td>\n",
       "      <td>1</td>\n",
       "      <td>248738</td>\n",
       "      <td>29.0000</td>\n",
       "      <td>NaN</td>\n",
       "      <td>S</td>\n",
       "    </tr>\n",
       "    <tr>\n",
       "      <th>4</th>\n",
       "      <td>900</td>\n",
       "      <td>3</td>\n",
       "      <td>Abrahim, Mrs. Joseph (Sophie Halaut Easu)</td>\n",
       "      <td>female</td>\n",
       "      <td>18.0</td>\n",
       "      <td>0</td>\n",
       "      <td>0</td>\n",
       "      <td>2657</td>\n",
       "      <td>7.2292</td>\n",
       "      <td>NaN</td>\n",
       "      <td>C</td>\n",
       "    </tr>\n",
       "  </tbody>\n",
       "</table>\n",
       "</div>"
      ],
      "text/plain": [
       "   895  3                              Wirz, Mr. Albert    male    27  0  0.1  \\\n",
       "0  896  3  Hirvonen, Mrs. Alexander (Helga E Lindqvist)  female  22.0  1    1   \n",
       "1  897  3                    Svensson, Mr. Johan Cervin    male  14.0  0    0   \n",
       "2  898  3                          Connolly, Miss. Kate  female  30.0  0    0   \n",
       "3  899  2                  Caldwell, Mr. Albert Francis    male  26.0  1    1   \n",
       "4  900  3     Abrahim, Mrs. Joseph (Sophie Halaut Easu)  female  18.0  0    0   \n",
       "\n",
       "    315154   8.6625 Unnamed: 9  S  \n",
       "0  3101298  12.2875        NaN  S  \n",
       "1     7538   9.2250        NaN  S  \n",
       "2   330972   7.6292        NaN  Q  \n",
       "3   248738  29.0000        NaN  S  \n",
       "4     2657   7.2292        NaN  C  "
      ]
     },
     "execution_count": 18,
     "metadata": {},
     "output_type": "execute_result"
    }
   ],
   "source": [
    "data.head(5)"
   ]
  },
  {
   "cell_type": "code",
   "execution_count": 19,
   "id": "a22ead7a-c013-46dd-ba3f-cc7392666182",
   "metadata": {},
   "outputs": [
    {
     "data": {
      "text/html": [
       "<div>\n",
       "<style scoped>\n",
       "    .dataframe tbody tr th:only-of-type {\n",
       "        vertical-align: middle;\n",
       "    }\n",
       "\n",
       "    .dataframe tbody tr th {\n",
       "        vertical-align: top;\n",
       "    }\n",
       "\n",
       "    .dataframe thead th {\n",
       "        text-align: right;\n",
       "    }\n",
       "</style>\n",
       "<table border=\"1\" class=\"dataframe\">\n",
       "  <thead>\n",
       "    <tr style=\"text-align: right;\">\n",
       "      <th></th>\n",
       "      <th>895</th>\n",
       "      <th>3</th>\n",
       "      <th>Wirz, Mr. Albert</th>\n",
       "      <th>male</th>\n",
       "      <th>27</th>\n",
       "      <th>0</th>\n",
       "      <th>0.1</th>\n",
       "      <th>315154</th>\n",
       "      <th>8.6625</th>\n",
       "      <th>Unnamed: 9</th>\n",
       "      <th>S</th>\n",
       "    </tr>\n",
       "  </thead>\n",
       "  <tbody>\n",
       "    <tr>\n",
       "      <th>409</th>\n",
       "      <td>1305</td>\n",
       "      <td>3</td>\n",
       "      <td>Spector, Mr. Woolf</td>\n",
       "      <td>male</td>\n",
       "      <td>NaN</td>\n",
       "      <td>0</td>\n",
       "      <td>0</td>\n",
       "      <td>A.5. 3236</td>\n",
       "      <td>8.0500</td>\n",
       "      <td>NaN</td>\n",
       "      <td>S</td>\n",
       "    </tr>\n",
       "    <tr>\n",
       "      <th>410</th>\n",
       "      <td>1306</td>\n",
       "      <td>1</td>\n",
       "      <td>Oliva y Ocana, Dona. Fermina</td>\n",
       "      <td>female</td>\n",
       "      <td>39.0</td>\n",
       "      <td>0</td>\n",
       "      <td>0</td>\n",
       "      <td>PC 17758</td>\n",
       "      <td>108.9000</td>\n",
       "      <td>C105</td>\n",
       "      <td>C</td>\n",
       "    </tr>\n",
       "    <tr>\n",
       "      <th>411</th>\n",
       "      <td>1307</td>\n",
       "      <td>3</td>\n",
       "      <td>Saether, Mr. Simon Sivertsen</td>\n",
       "      <td>male</td>\n",
       "      <td>38.5</td>\n",
       "      <td>0</td>\n",
       "      <td>0</td>\n",
       "      <td>SOTON/O.Q. 3101262</td>\n",
       "      <td>7.2500</td>\n",
       "      <td>NaN</td>\n",
       "      <td>S</td>\n",
       "    </tr>\n",
       "    <tr>\n",
       "      <th>412</th>\n",
       "      <td>1308</td>\n",
       "      <td>3</td>\n",
       "      <td>Ware, Mr. Frederick</td>\n",
       "      <td>male</td>\n",
       "      <td>NaN</td>\n",
       "      <td>0</td>\n",
       "      <td>0</td>\n",
       "      <td>359309</td>\n",
       "      <td>8.0500</td>\n",
       "      <td>NaN</td>\n",
       "      <td>S</td>\n",
       "    </tr>\n",
       "    <tr>\n",
       "      <th>413</th>\n",
       "      <td>1309</td>\n",
       "      <td>3</td>\n",
       "      <td>Peter, Master. Michael J</td>\n",
       "      <td>male</td>\n",
       "      <td>NaN</td>\n",
       "      <td>1</td>\n",
       "      <td>1</td>\n",
       "      <td>2668</td>\n",
       "      <td>22.3583</td>\n",
       "      <td>NaN</td>\n",
       "      <td>C</td>\n",
       "    </tr>\n",
       "  </tbody>\n",
       "</table>\n",
       "</div>"
      ],
      "text/plain": [
       "      895  3              Wirz, Mr. Albert    male    27  0  0.1  \\\n",
       "409  1305  3            Spector, Mr. Woolf    male   NaN  0    0   \n",
       "410  1306  1  Oliva y Ocana, Dona. Fermina  female  39.0  0    0   \n",
       "411  1307  3  Saether, Mr. Simon Sivertsen    male  38.5  0    0   \n",
       "412  1308  3           Ware, Mr. Frederick    male   NaN  0    0   \n",
       "413  1309  3      Peter, Master. Michael J    male   NaN  1    1   \n",
       "\n",
       "                 315154    8.6625 Unnamed: 9  S  \n",
       "409           A.5. 3236    8.0500        NaN  S  \n",
       "410            PC 17758  108.9000       C105  C  \n",
       "411  SOTON/O.Q. 3101262    7.2500        NaN  S  \n",
       "412              359309    8.0500        NaN  S  \n",
       "413                2668   22.3583        NaN  C  "
      ]
     },
     "execution_count": 19,
     "metadata": {},
     "output_type": "execute_result"
    }
   ],
   "source": [
    "data.tail(5)"
   ]
  },
  {
   "cell_type": "code",
   "execution_count": 20,
   "id": "94d9f246-d670-4973-85c3-e5fda3a67d63",
   "metadata": {},
   "outputs": [
    {
     "data": {
      "text/html": [
       "<div>\n",
       "<style scoped>\n",
       "    .dataframe tbody tr th:only-of-type {\n",
       "        vertical-align: middle;\n",
       "    }\n",
       "\n",
       "    .dataframe tbody tr th {\n",
       "        vertical-align: top;\n",
       "    }\n",
       "\n",
       "    .dataframe thead th {\n",
       "        text-align: right;\n",
       "    }\n",
       "</style>\n",
       "<table border=\"1\" class=\"dataframe\">\n",
       "  <thead>\n",
       "    <tr style=\"text-align: right;\">\n",
       "      <th></th>\n",
       "      <th>895</th>\n",
       "      <th>3</th>\n",
       "      <th>27</th>\n",
       "      <th>0</th>\n",
       "      <th>0.1</th>\n",
       "      <th>8.6625</th>\n",
       "    </tr>\n",
       "  </thead>\n",
       "  <tbody>\n",
       "    <tr>\n",
       "      <th>count</th>\n",
       "      <td>414.000000</td>\n",
       "      <td>414.000000</td>\n",
       "      <td>328.000000</td>\n",
       "      <td>414.000000</td>\n",
       "      <td>414.000000</td>\n",
       "      <td>413.000000</td>\n",
       "    </tr>\n",
       "    <tr>\n",
       "      <th>mean</th>\n",
       "      <td>1102.500000</td>\n",
       "      <td>2.260870</td>\n",
       "      <td>30.121951</td>\n",
       "      <td>0.449275</td>\n",
       "      <td>0.396135</td>\n",
       "      <td>35.891909</td>\n",
       "    </tr>\n",
       "    <tr>\n",
       "      <th>std</th>\n",
       "      <td>119.655756</td>\n",
       "      <td>0.843471</td>\n",
       "      <td>14.125243</td>\n",
       "      <td>0.899872</td>\n",
       "      <td>0.985407</td>\n",
       "      <td>56.113014</td>\n",
       "    </tr>\n",
       "    <tr>\n",
       "      <th>min</th>\n",
       "      <td>896.000000</td>\n",
       "      <td>1.000000</td>\n",
       "      <td>0.170000</td>\n",
       "      <td>0.000000</td>\n",
       "      <td>0.000000</td>\n",
       "      <td>0.000000</td>\n",
       "    </tr>\n",
       "    <tr>\n",
       "      <th>25%</th>\n",
       "      <td>999.250000</td>\n",
       "      <td>1.000000</td>\n",
       "      <td>21.000000</td>\n",
       "      <td>0.000000</td>\n",
       "      <td>0.000000</td>\n",
       "      <td>7.895800</td>\n",
       "    </tr>\n",
       "    <tr>\n",
       "      <th>50%</th>\n",
       "      <td>1102.500000</td>\n",
       "      <td>3.000000</td>\n",
       "      <td>27.000000</td>\n",
       "      <td>0.000000</td>\n",
       "      <td>0.000000</td>\n",
       "      <td>14.458300</td>\n",
       "    </tr>\n",
       "    <tr>\n",
       "      <th>75%</th>\n",
       "      <td>1205.750000</td>\n",
       "      <td>3.000000</td>\n",
       "      <td>39.000000</td>\n",
       "      <td>1.000000</td>\n",
       "      <td>0.000000</td>\n",
       "      <td>31.500000</td>\n",
       "    </tr>\n",
       "    <tr>\n",
       "      <th>max</th>\n",
       "      <td>1309.000000</td>\n",
       "      <td>3.000000</td>\n",
       "      <td>76.000000</td>\n",
       "      <td>8.000000</td>\n",
       "      <td>9.000000</td>\n",
       "      <td>512.329200</td>\n",
       "    </tr>\n",
       "  </tbody>\n",
       "</table>\n",
       "</div>"
      ],
      "text/plain": [
       "               895           3          27           0         0.1      8.6625\n",
       "count   414.000000  414.000000  328.000000  414.000000  414.000000  413.000000\n",
       "mean   1102.500000    2.260870   30.121951    0.449275    0.396135   35.891909\n",
       "std     119.655756    0.843471   14.125243    0.899872    0.985407   56.113014\n",
       "min     896.000000    1.000000    0.170000    0.000000    0.000000    0.000000\n",
       "25%     999.250000    1.000000   21.000000    0.000000    0.000000    7.895800\n",
       "50%    1102.500000    3.000000   27.000000    0.000000    0.000000   14.458300\n",
       "75%    1205.750000    3.000000   39.000000    1.000000    0.000000   31.500000\n",
       "max    1309.000000    3.000000   76.000000    8.000000    9.000000  512.329200"
      ]
     },
     "execution_count": 20,
     "metadata": {},
     "output_type": "execute_result"
    }
   ],
   "source": [
    "data.describe()"
   ]
  },
  {
   "cell_type": "code",
   "execution_count": 21,
   "id": "20db7cdb-154c-4f7a-9700-2b15b66a8d8c",
   "metadata": {},
   "outputs": [
    {
     "name": "stdout",
     "output_type": "stream",
     "text": [
      "<class 'pandas.core.frame.DataFrame'>\n",
      "RangeIndex: 414 entries, 0 to 413\n",
      "Data columns (total 11 columns):\n",
      " #   Column            Non-Null Count  Dtype  \n",
      "---  ------            --------------  -----  \n",
      " 0   895               414 non-null    int64  \n",
      " 1   3                 414 non-null    int64  \n",
      " 2   Wirz, Mr. Albert  414 non-null    object \n",
      " 3   male              414 non-null    object \n",
      " 4   27                328 non-null    float64\n",
      " 5   0                 414 non-null    int64  \n",
      " 6   0.1               414 non-null    int64  \n",
      " 7   315154            414 non-null    object \n",
      " 8   8.6625            413 non-null    float64\n",
      " 9   Unnamed: 9        91 non-null     object \n",
      " 10  S                 414 non-null    object \n",
      "dtypes: float64(2), int64(4), object(5)\n",
      "memory usage: 35.7+ KB\n"
     ]
    }
   ],
   "source": [
    "data.info()"
   ]
  },
  {
   "cell_type": "code",
   "execution_count": 22,
   "id": "2f432841-7e7e-4cd6-a5cc-1112c24e87cf",
   "metadata": {},
   "outputs": [
    {
     "data": {
      "text/plain": [
       "np.int64(0)"
      ]
     },
     "execution_count": 22,
     "metadata": {},
     "output_type": "execute_result"
    }
   ],
   "source": [
    "data.duplicated().sum()"
   ]
  },
  {
   "cell_type": "code",
   "execution_count": 24,
   "id": "51dc9bba-4c70-4c4f-b668-ba041e747335",
   "metadata": {},
   "outputs": [
    {
     "data": {
      "text/plain": [
       "895                   0\n",
       "3                     0\n",
       "Wirz, Mr. Albert      0\n",
       "male                  0\n",
       "27                   86\n",
       "0                     0\n",
       "0.1                   0\n",
       "315154                0\n",
       "8.6625                1\n",
       "Unnamed: 9          323\n",
       "S                     0\n",
       "dtype: int64"
      ]
     },
     "execution_count": 24,
     "metadata": {},
     "output_type": "execute_result"
    }
   ],
   "source": [
    "data.isnull().sum()"
   ]
  },
  {
   "cell_type": "code",
   "execution_count": 29,
   "id": "1bcedd5f-b52e-49ae-8e10-1518eb75a931",
   "metadata": {},
   "outputs": [],
   "source": [
    "# Ensure column names are stripped\n",
    "data.columns = data.columns.str.strip()\n",
    "\n",
    "# Fill \"Unnamed: 9\" column\n",
    "data[\"Unnamed: 9\"] = data[\"Unnamed: 9\"].fillna(\"Unknown\")\n",
    "\n",
    "# Fill \"27\" column\n",
    "data[\"27\"] = data[\"27\"].fillna(data[\"27\"].mean())\n",
    "\n"
   ]
  },
  {
   "cell_type": "code",
   "execution_count": 30,
   "id": "c5abcfbe-db0a-43f7-917f-71eb5e8f831d",
   "metadata": {},
   "outputs": [
    {
     "data": {
      "text/plain": [
       "895                 0\n",
       "3                   0\n",
       "Wirz, Mr. Albert    0\n",
       "male                0\n",
       "27                  0\n",
       "0                   0\n",
       "0.1                 0\n",
       "315154              0\n",
       "8.6625              1\n",
       "Unnamed: 9          0\n",
       "S                   0\n",
       "dtype: int64"
      ]
     },
     "execution_count": 30,
     "metadata": {},
     "output_type": "execute_result"
    }
   ],
   "source": [
    "data.isnull().sum()"
   ]
  },
  {
   "cell_type": "code",
   "execution_count": 31,
   "id": "ea5f69d3-6179-4b55-834a-2fed18096442",
   "metadata": {},
   "outputs": [
    {
     "data": {
      "text/plain": [
       "np.int64(0)"
      ]
     },
     "execution_count": 31,
     "metadata": {},
     "output_type": "execute_result"
    }
   ],
   "source": [
    "data.duplicated().sum()"
   ]
  },
  {
   "cell_type": "code",
   "execution_count": 34,
   "id": "6830adee-0e7f-405d-bdac-1004d32391fe",
   "metadata": {},
   "outputs": [
    {
     "data": {
      "image/png": "[encoded data removed]",
      "text/plain": [
       "<Figure size 600x300 with 1 Axes>"
      ]
     },
     "metadata": {},
     "output_type": "display_data"
    }
   ],
   "source": [
    "plt.figure(figsize=(6,3))\n",
    "sns.histplot(data[\"27\"],kde=True)\n",
    "plt.title(\"Age Distributed\")\n",
    "plt.xlabel(\"Age\")\n",
    "plt.ylabel(\"count\")\n",
    "plt.show()"
   ]
  },
  {
   "cell_type": "code",
   "execution_count": 36,
   "id": "cbcd6f47-fe4d-4e95-8ca0-cee2f1d0ff9a",
   "metadata": {},
   "outputs": [
    {
     "name": "stderr",
     "output_type": "stream",
     "text": [
      "C:\\Users\\mange\\AppData\\Local\\Temp\\ipykernel_12988\\2222599239.py:6: UserWarning: No artists with labels found to put in legend.  Note that artists whose label start with an underscore are ignored when legend() is called with no argument.\n",
      "  plt.legend(title=\"survived\",loc=\"upper right\")\n"
     ]
    },
    {
     "data": {
      "image/png": "[encoded data removed]",
      "text/plain": [
       "<Figure size 600x300 with 1 Axes>"
      ]
     },
     "metadata": {},
     "output_type": "display_data"
    }
   ],
   "source": [
    "plt.figure(figsize=(6,3))\n",
    "sns.countplot(data=data,x=\"male\",hue=\"male\")\n",
    "plt.title(\"Survival by Gender\")\n",
    "plt.xlabel(\"Gender\")\n",
    "plt.ylabel(\"count\")\n",
    "plt.legend(title=\"survived\",loc=\"upper right\")\n",
    "plt.show()"
   ]
  },
  {
   "cell_type": "code",
   "execution_count": 37,
   "id": "878d0fca-b0f3-4c09-8a38-9fca511a6569",
   "metadata": {},
   "outputs": [
    {
     "data": {
      "image/png": "[encoded data removed]",
      "text/plain": [
       "<Figure size 600x300 with 1 Axes>"
      ]
     },
     "metadata": {},
     "output_type": "display_data"
    }
   ],
   "source": [
    "plt.figure(figsize=(6,3))\n",
    "sns.scatterplot(data=data,x=\"27\",y=\"8.6625\",hue=\"27\")\n",
    "plt.title(\"Scatter plot of Age and Fare\")\n",
    "plt.xlabel(\"Age\")\n",
    "plt.ylabel(\"Fare\")\n",
    "plt.legend(title=\"survived\")\n",
    "plt.show()"
   ]
  },
  {
   "cell_type": "code",
   "execution_count": null,
   "id": "193d790a-6fdf-47ed-94ef-2b9b64eb7ac0",
   "metadata": {},
   "outputs": [],
   "source": []
  }
 ],
 "metadata": {
  "kernelspec": {
   "display_name": "Python 3 (ipykernel)",
   "language": "python",
   "name": "python3"
  },
  "language_info": {
   "codemirror_mode": {
    "name": "ipython",
    "version": 3
   },
   "file_extension": ".py",
   "mimetype": "text/x-python",
   "name": "python",
   "nbconvert_exporter": "python",
   "pygments_lexer": "ipython3",
   "version": "3.13.5"
  }
 },
 "nbformat": 4,
 "nbformat_minor": 5
}
